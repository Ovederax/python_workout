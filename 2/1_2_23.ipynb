{
 "cells": [
  {
   "cell_type": "markdown",
   "metadata": {},
   "source": [
    "1.2. Встроенные типы данных\n",
    "\n",
    "1.2.23. Полярные координаты.  \n",
    "Составьте программу, осуществляющую  преобразование  координат  из  Декартовых в полярные.  \n",
    "Программа должна получать из командной строки значения  координат х и  у  типа  float, а выводить полярные координаты r и  φ.  \n",
    "Используйте функцию Python  math. atan2(y, х),  вычисляющую значение арктангенса у/х, находящееся в диапазоне от -п до п  "
   ]
  },
  {
   "cell_type": "code",
   "execution_count": 45,
   "metadata": {},
   "outputs": [
    {
     "data": {
      "text/plain": [
       "{'r': 5.0, 'angle': 0.9272952180016122}"
      ]
     },
     "execution_count": 45,
     "metadata": {},
     "output_type": "execute_result"
    }
   ],
   "source": [
    "from math import atan2, sqrt\n",
    "\n",
    "def fromDecartToPolar(x, y):\n",
    "    assert (type(x) is float or type(x) is int)\n",
    "    assert (type(y) is int or type(y) is float)\n",
    "    r = sqrt(x*x + y*y)\n",
    "    angle = atan2(y, x)\n",
    "    return {'r': r, 'angle': angle}\n",
    "\n",
    "#x = input('Input x: ')\n",
    "#y = input('Input y: ')\n",
    "#x = float(x)\n",
    "#y = float(y)\n",
    "x = 3.0\n",
    "y = 4.0\n",
    "\n",
    "fromDecartToPolar(x, y)"
   ]
  },
  {
   "cell_type": "code",
   "execution_count": null,
   "metadata": {},
   "outputs": [],
   "source": []
  }
 ],
 "metadata": {
  "kernelspec": {
   "display_name": "Python 3",
   "language": "python",
   "name": "python3"
  },
  "language_info": {
   "codemirror_mode": {
    "name": "ipython",
    "version": 3
   },
   "file_extension": ".py",
   "mimetype": "text/x-python",
   "name": "python",
   "nbconvert_exporter": "python",
   "pygments_lexer": "ipython3",
   "version": "3.8.5"
  }
 },
 "nbformat": 4,
 "nbformat_minor": 4
}
