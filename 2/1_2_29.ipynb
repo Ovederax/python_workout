{
 "cells": [
  {
   "cell_type": "markdown",
   "metadata": {},
   "source": [
    "**Преобразование цветов.**  \n",
    "Для представления цвета используется несколько форматов.  \n",
    "Например, для экранов LCD, цифровых камер и веб-страниц используется формат RGB,  \n",
    "определяющий уровни красного (R), зеленого (G), и синего (В)  \n",
    "цветов целочисленным значением в диапазоне от О до 255.  \n",
    "\n",
    "Для печати книг и журналов используется формат CMYK,  \n",
    "определяющий уровни синего (С), красного (М), желтого (У) и черного (К) цветов вещественным значением в диапазоне от 0.0 до 1.0.  \n",
    "\n",
    "Составьте программу, преобразующую значения RGB в CMYK.   \n",
    "Передавайте в командной строке три целых числа, r, g и Ь, а выводите эквивалентные значения CMYK.  \n",
    "Если все значения RGB равны О, то и все значения СМУ равны О, а значение К - 1;  \n",
    "в противном случае используйте следующие формулы: \n",
    "\n",
    "w = max (r/  255, g / 255, Ь / 255)  \n",
    "c=(w-(r/255))/w  \n",
    "m=( w- (g/ 255)) / w  \n",
    "у=( w- (Ь/ 255)) / w  \n",
    "k= 1-w  "
   ]
  },
  {
   "cell_type": "code",
   "execution_count": 70,
   "metadata": {},
   "outputs": [
    {
     "name": "stdout",
     "output_type": "stream",
     "text": [
      "{r: 105.00, g: 64.00, b: 64.00}\n",
      "{c: 0.00, m: 0.39, y: 0.39, k: 0.58}\n",
      "\n",
      "{r: 23.00, g: 41.00, b: 46.00}\n",
      "{c: 0.50, m: 0.10, y: 0.00, k: 0.81}\n",
      "\n",
      "{r: 0.00, g: 0.00, b: 0.00}\n",
      "{c: 0.00, m: 0.00, y: 0.00, k: 1.00}\n",
      "\n"
     ]
    }
   ],
   "source": [
    "def toFixed(f, n=0):\n",
    "    f = float(f)\n",
    "    a, b = repr(f).split('.')\n",
    "    return '{}.{}{}'.format(a, b[:n], '0'*(n-len(b)))\n",
    "\n",
    "def formatDict(d):\n",
    "    l = []\n",
    "    for it in d:\n",
    "        l.append(f'{it}: ' + toFixed(d[it], 2))\n",
    "    return '{' + ', '.join(l) + '}'\n",
    "\n",
    "def isNumber(value):\n",
    "    return type(value) is int or type(value) is float\n",
    "\n",
    "def fromRGBtoCMYK(rgb):\n",
    "    assert type(rgb) is dict\n",
    "    r = rgb['r']\n",
    "    g = rgb['g']\n",
    "    b = rgb['b']\n",
    "    assert isNumber(r) and isNumber(g) and isNumber(b)\n",
    "    if r == 0 and g == 0 and b == 0:\n",
    "        return { 'c': 0, 'm': 0, 'y': 0, 'k': 1 }\n",
    "    w = max(r / 255, g / 255, b / 255) \n",
    "    c = (w - (r / 255)) / w  \n",
    "    m = (w - (g / 255)) / w  \n",
    "    y = (w - (b / 255)) / w  \n",
    "    return { 'c': c, 'm': m, 'y': y, 'k': 1-w }\n",
    "\n",
    "list = [\n",
    "    {'r': 105, 'g': 64, 'b': 64},\n",
    "    {'r': 23, 'g': 41, 'b': 46},\n",
    "    {'r': 0, 'g': 0, 'b': 0 }\n",
    "]\n",
    "\n",
    "for it in list:\n",
    "    print( formatDict(it) )\n",
    "    print( formatDict(fromRGBtoCMYK(it)) )\n",
    "    print()\n"
   ]
  },
  {
   "cell_type": "code",
   "execution_count": null,
   "metadata": {},
   "outputs": [],
   "source": []
  }
 ],
 "metadata": {
  "kernelspec": {
   "display_name": "Python 3",
   "language": "python",
   "name": "python3"
  },
  "language_info": {
   "codemirror_mode": {
    "name": "ipython",
    "version": 3
   },
   "file_extension": ".py",
   "mimetype": "text/x-python",
   "name": "python",
   "nbconvert_exporter": "python",
   "pygments_lexer": "ipython3",
   "version": "3.8.5"
  }
 },
 "nbformat": 4,
 "nbformat_minor": 4
}
