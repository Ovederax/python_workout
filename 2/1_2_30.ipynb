{
 "cells": [
  {
   "cell_type": "markdown",
   "metadata": {},
   "source": [
    "**Большая окружность.**  \n",
    "Составьте программу, получающую в командной строке четыре аргумента,  \n",
    "х1,  у1, х2 и  у2 типа float (широта и долгота в градусах двух точек на глобусе),  \n",
    "и выводящую длину большой окружности между ними.  \n",
    "Длина большой окружности d (в навигационных милях) определяется следующим уравнением: \n",
    "    \n",
    "    d = 60 arccos(sin(x1) siп(x2) + cos(x1) cos(x2) cos(y1 -у2)).  \n",
    "    \n",
    "Обратите внимание, что это уравнение использует градусы, а тригонометрические функции Pythoп - радианы.  \n",
    "Для их преобразования используйте функции math. radians() и math.degrees ().  \n",
    "Используйте свою программу для вычисления длины большой окружности между Парижем  \n",
    "\n",
    "(48.87° N и -2.33° W) и Сан-Франциско (37.8° N и 122.4° W)."
   ]
  },
  {
   "cell_type": "code",
   "execution_count": 14,
   "metadata": {},
   "outputs": [
    {
     "data": {
      "text/plain": [
       "122.79633933725138"
      ]
     },
     "execution_count": 14,
     "metadata": {},
     "output_type": "execute_result"
    }
   ],
   "source": [
    "from math import sin, cos, acos, radians, degrees\n",
    "\n",
    "def getRadiusOfCircle(x1, y1, x2, y2):\n",
    "    x1 = radians(x1)\n",
    "    y1 = radians(x2)\n",
    "    x2 = radians(y1)\n",
    "    y2 = radians(y2)\n",
    "    d = 60*acos(sin(x1)*sin(x2)+cos(x1)*cos(x2)*cos(y1 -у2))\n",
    "    return d\n",
    "    \n",
    "x1 = 48.87 \n",
    "y1 = -2.33 \n",
    "x2 = 37.8\n",
    "y2 = 122.4\n",
    "getRadiusOfCircle(x1, y1, x2, y2)\n"
   ]
  }
 ],
 "metadata": {
  "kernelspec": {
   "display_name": "Python 3",
   "language": "python",
   "name": "python3"
  },
  "language_info": {
   "codemirror_mode": {
    "name": "ipython",
    "version": 3
   },
   "file_extension": ".py",
   "mimetype": "text/x-python",
   "name": "python",
   "nbconvert_exporter": "python",
   "pygments_lexer": "ipython3",
   "version": "3.8.5"
  }
 },
 "nbformat": 4,
 "nbformat_minor": 4
}
