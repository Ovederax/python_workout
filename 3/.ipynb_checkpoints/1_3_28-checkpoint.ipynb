{
 "cells": [
  {
   "cell_type": "markdown",
   "metadata": {},
   "source": [
    "Составьте программу gcd. ру, находящую наибольший общий делитель  \n",
    "(greatest common divisor - gcd) для двух целых чисел.  \n",
    "Используйте алгоритм Евклида, подразумевающий итерационные вычисления на основании  \n",
    "следующего наблюдения: если х больше, чем у, и если у делит х,  \n",
    "наибольший общий делитель х и у - это у; в противном случае наибольший  \n",
    "общий делитель х  и у - это х  %  у и у. "
   ]
  },
  {
   "cell_type": "code",
   "execution_count": 5,
   "metadata": {},
   "outputs": [
    {
     "data": {
      "text/plain": [
       "21"
      ]
     },
     "execution_count": 5,
     "metadata": {},
     "output_type": "execute_result"
    }
   ],
   "source": [
    "def gdc(x, y):\n",
    "    z = x % y;\n",
    "    while True:\n",
    "        if z == 0:\n",
    "            return y;\n",
    "        y, x = z, y\n",
    "        z = x % y\n",
    "gdc(1071, 462)"
   ]
  }
 ],
 "metadata": {
  "kernelspec": {
   "display_name": "Python 3",
   "language": "python",
   "name": "python3"
  },
  "language_info": {
   "codemirror_mode": {
    "name": "ipython",
    "version": 3
   },
   "file_extension": ".py",
   "mimetype": "text/x-python",
   "name": "python",
   "nbconvert_exporter": "python",
   "pygments_lexer": "ipython3",
   "version": "3.8.5"
  }
 },
 "nbformat": 4,
 "nbformat_minor": 4
}
