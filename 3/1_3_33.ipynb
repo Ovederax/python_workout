{
 "cells": [
  {
   "cell_type": "markdown",
   "metadata": {},
   "source": [
    "Контрольная сумма.  \n",
    "Международный стандартный номер  книги \n",
    "(lnternational Standard Book Nƥber - ISBN) - это 10-значный цифровой код,  \n",
    "уникально идентифицирующий книгу. Крайняя справа цифра - это контрольная сумма (chec,ƥ),  \n",
    "которая может быть вычислена из 9 других цифр согласно условию,  \n",
    "что d1 +2d2 +3d3 + ... + 10d10 кратно 11 (здесь di означает i-ю цифру справа). \n",
    "\n",
    "Цифра контрольной суммы di может быть любым значением  \n",
    "от 0 до  10: по соглашению ISBN, для обозначения цифры  10 используется  \n",
    "символ  'Х'. \n",
    "\n",
    "Пример: контрольной суммой номера 020131452 является 5,  \n",
    "поскольку 5 - единственное значение Хот О до 10, для которого результат выражения   \n",
    "1О·О + 9·2 + 8·О + 7·1 + 6·3 + 5·1 + 4·4 + 3·5 + 2·2 + 1·Х кратен  11.  \n",
    "\n",
    "Составьте программу, получающую в аргументах командной строки целое  \n",
    "число из 9 цифр, вычислите контрольную сумму и выведите ISBN."
   ]
  },
  {
   "cell_type": "code",
   "execution_count": 54,
   "metadata": {},
   "outputs": [
    {
     "name": "stdout",
     "output_type": "stream",
     "text": [
      "0201314525\n",
      "2266111566\n",
      "0000000108\n"
     ]
    }
   ],
   "source": [
    "def createISBN(number):\n",
    "    s = str(number)\n",
    "    additionalZeros = ''\n",
    "    for i in range(len(s), 9):\n",
    "        additionalZeros += '0'\n",
    "    s = additionalZeros + s\n",
    "    l = list(s)\n",
    "    sum = 0\n",
    "    i = 2;\n",
    "    for it in reversed(l):\n",
    "        sum = sum + int(it) * (i)\n",
    "        i = i + 1\n",
    "    checksum = 11 - (sum % 11)\n",
    "    if checksum == 10:\n",
    "        checksum = 'X'\n",
    "    else:\n",
    "        checksum = str(checksum)\n",
    "    return s + checksum;\n",
    "    \n",
    "print(createISBN(\"020131452\"))\n",
    "print(createISBN(226611156))\n",
    "print(createISBN(10))"
   ]
  }
 ],
 "metadata": {
  "kernelspec": {
   "display_name": "Python 3",
   "language": "python",
   "name": "python3"
  },
  "language_info": {
   "codemirror_mode": {
    "name": "ipython",
    "version": 3
   },
   "file_extension": ".py",
   "mimetype": "text/x-python",
   "name": "python",
   "nbconvert_exporter": "python",
   "pygments_lexer": "ipython3",
   "version": "3.8.5"
  }
 },
 "nbformat": 4,
 "nbformat_minor": 4
}
