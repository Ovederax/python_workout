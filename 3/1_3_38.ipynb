{
 "cells": [
  {
   "cell_type": "markdown",
   "metadata": {},
   "source": [
    "Тригонометрические функции.  \n",
    "Составьте программы sine.ру  и  cosine. ру,  \n",
    "вычисляющие функции синуса и  косинуса с использованием \n",
    "разложения в ряд Тейлора  \n",
    "sin х = х-х^3/3! + х^5/5! - ...  \n",
    "и cos х = 1 - х^2/2! + x^4/4! - ."
   ]
  },
  {
   "cell_type": "code",
   "execution_count": 84,
   "metadata": {},
   "outputs": [
    {
     "name": "stdout",
     "output_type": "stream",
     "text": [
      "0.5 0.49999999999999994\n",
      "0.8660254037844399 0.8660254037844387\n"
     ]
    }
   ],
   "source": [
    "from math import sin, cos, pi\n",
    "\n",
    "def mSin(x):\n",
    "    sum = 0;\n",
    "    x = x % (2*pi)\n",
    "    eps = x;\n",
    "    j = 1;\n",
    "    for i in range(7):\n",
    "        sum += eps\n",
    "        eps *= -1 * x * x / (j+1) / (j+2)\n",
    "        j += 2\n",
    "    while abs(eps) > 1e-6:\n",
    "        sum += eps\n",
    "        eps *= -1 * x * x / (j+1) / (j+2)\n",
    "        j += 2\n",
    "    return sum\n",
    "\n",
    "def mCos(x):\n",
    "    sum = 0;\n",
    "    x = x % (2*pi)\n",
    "    eps = 1;\n",
    "    j = 0;\n",
    "    for i in range(7):\n",
    "        sum += eps\n",
    "        eps *= -1 * x * x / (j+1) / (j+2)\n",
    "        j += 2\n",
    "    while abs(eps) > 1e-6:\n",
    "        sum += eps\n",
    "        eps *= -1 * x * x / (j+1) / (j+2)\n",
    "        j += 2\n",
    "    return sum\n",
    "\n",
    "x = 30\n",
    "rad = x * pi / 180\n",
    "print(mSin(rad), sin(rad))\n",
    "print(mCos(rad), cos(rad))"
   ]
  }
 ],
 "metadata": {
  "kernelspec": {
   "display_name": "Python 3",
   "language": "python",
   "name": "python3"
  },
  "language_info": {
   "codemirror_mode": {
    "name": "ipython",
    "version": 3
   },
   "file_extension": ".py",
   "mimetype": "text/x-python",
   "name": "python",
   "nbconvert_exporter": "python",
   "pygments_lexer": "ipython3",
   "version": "3.8.5"
  }
 },
 "nbformat": 4,
 "nbformat_minor": 4
}
