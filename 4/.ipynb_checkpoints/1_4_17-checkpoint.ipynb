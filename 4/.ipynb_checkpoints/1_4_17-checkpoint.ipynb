{
 "cells": [
  {
   "cell_type": "markdown",
   "metadata": {},
   "source": [
    "Измените программу 1.4.4 (selfavoid. ру) так, чтобы вычислять и   \n",
    "выводить среднюю длину путей и  вероятность тупиков.  \n",
    "Среднюю длину успешных и тупиковых путей выводите в отдельности.  "
   ]
  },
  {
   "cell_type": "code",
   "execution_count": 47,
   "metadata": {},
   "outputs": [
    {
     "name": "stdout",
     "output_type": "stream",
     "text": [
      "4% dead  ends\n",
      "Success avverage len: 15.98\n",
      "Success avverage len: 21.89\n"
     ]
    }
   ],
   "source": [
    "import random \n",
    "import sys\n",
    "\n",
    "def create2D(m, n, value):\n",
    "    l = []\n",
    "    for i in range(m):\n",
    "        line = []\n",
    "        for j in range(n):\n",
    "            line.append(value)\n",
    "        l.append(line)\n",
    "    return l\n",
    "\n",
    "def Average(lst): \n",
    "    if len(lst) == 0:\n",
    "        return 0\n",
    "    return sum(lst) / len(lst) \n",
    "\n",
    "n = 10\n",
    "trials = 1000\n",
    "deadEnds  =  0\n",
    "\n",
    "successPaths = []\n",
    "failurePaths = []\n",
    "\n",
    "for t in range(trials):\n",
    "    a = create2D(n, n, False)\n",
    "    x  =  n  // 2 \n",
    "    y  =  n  //  2 \n",
    "    isDead = False\n",
    "    steps = 0\n",
    "    while (x > 0)  and  (x <  n-1)  and  (y >  0) and  (y <  n-1):\n",
    "        #  Проверить туnик  и  сделать случайный  ход\n",
    "        steps += 1\n",
    "        a[x][y] =  True\n",
    "        if  a[x-1][y] and a[x+1 ][y] and a[x][y-1] and  a[x][y+1]:\n",
    "            isDead = True\n",
    "            deadEnds +=  1\n",
    "            break\n",
    "        г = random.randrange(1, 5)\n",
    "        if   (г == 1) and (not  a[x+1][y]): x  += 1\n",
    "        elif (г == 2) and (not  a[x-1][y]): x  -= 1\n",
    "        elif (г == 3) and (not  a[x][y+1]): y  += 1\n",
    "        elif (г == 4) and (not  a[x][y-1]): y  -= 1\n",
    "    if isDead:\n",
    "        failurePaths.append(steps)\n",
    "    else:\n",
    "        successPaths.append(steps)\n",
    "            \n",
    "print(str(100 * deadEnds // trials) +  '% dead  ends')\n",
    "print('Success avverage len:', round(Average(successPaths), 2))\n",
    "print('Success avverage len:', round(Average(failurePaths), 2))"
   ]
  },
  {
   "cell_type": "code",
   "execution_count": null,
   "metadata": {},
   "outputs": [],
   "source": []
  }
 ],
 "metadata": {
  "kernelspec": {
   "display_name": "Python 3",
   "language": "python",
   "name": "python3"
  },
  "language_info": {
   "codemirror_mode": {
    "name": "ipython",
    "version": 3
   },
   "file_extension": ".py",
   "mimetype": "text/x-python",
   "name": "python",
   "nbconvert_exporter": "python",
   "pygments_lexer": "ipython3",
   "version": "3.8.5"
  }
 },
 "nbformat": 4,
 "nbformat_minor": 4
}
