{
 "cells": [
  {
   "cell_type": "markdown",
   "metadata": {},
   "source": [
    "Составьте фрагмент кода для умножения двух прямоугольных матриц,  \n",
    "которые не обязательно являются  квадратными.   \n",
    "Примечание: для скалярного произведения количество столбцов в  первой матрице должно \n",
    "быть равно количеству рядов во второй матрице.  \n",
    "Если размерности не удовлетворяют этому условию,  \n",
    "выведите сообщение об ошибке. "
   ]
  },
  {
   "cell_type": "code",
   "execution_count": null,
   "metadata": {},
   "outputs": [],
   "source": []
  }
 ],
 "metadata": {
  "kernelspec": {
   "display_name": "Python 3",
   "language": "python",
   "name": "python3"
  },
  "language_info": {
   "codemirror_mode": {
    "name": "ipython",
    "version": 3
   },
   "file_extension": ".py",
   "mimetype": "text/x-python",
   "name": "python",
   "nbconvert_exporter": "python",
   "pygments_lexer": "ipython3",
   "version": "3.8.5"
  }
 },
 "nbformat": 4,
 "nbformat_minor": 4
}
