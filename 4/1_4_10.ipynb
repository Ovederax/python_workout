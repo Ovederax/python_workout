{
 "cells": [
  {
   "cell_type": "markdown",
   "metadata": {},
   "source": [
    "1.4.10 \n",
    "Составьте  фрагмент  кода,  выводящий  транспозицию  (замена  рядов  \n",
    "и столбцов) двумерного массива. Для примера массива таблицы в тексте  \n",
    "ваш код должен вывести следующее:  \n",
    "99  98  92  94  99  90  76  92  97  89  \n",
    "85  57  77 32 34 46  59  66  71 29  \n",
    "98  78  76  11 22  54  88  89  24  38  \n",
    "\n",
    "1.4.11. Составьте  фрагмент  кода  для транспозиции  квадратного  двумерного  \n",
    "массива на месте, без создания второго массива.  "
   ]
  },
  {
   "cell_type": "code",
   "execution_count": null,
   "metadata": {},
   "outputs": [],
   "source": []
  }
 ],
 "metadata": {
  "kernelspec": {
   "display_name": "Python 3",
   "language": "python",
   "name": "python3"
  },
  "language_info": {
   "codemirror_mode": {
    "name": "ipython",
    "version": 3
   },
   "file_extension": ".py",
   "mimetype": "text/x-python",
   "name": "python",
   "nbconvert_exporter": "python",
   "pygments_lexer": "ipython3",
   "version": "3.8.5"
  }
 },
 "nbformat": 4,
 "nbformat_minor": 4
}
