{
 "cells": [
  {
   "cell_type": "markdown",
   "metadata": {},
   "source": [
    "1.4.10 \n",
    "Составьте  фрагмент  кода,  выводящий  транспозицию  (замена  рядов  \n",
    "и столбцов) двумерного массива. Для примера массива таблицы в тексте  \n",
    "ваш код должен вывести следующее:  \n",
    "99  98  92  94  99  90  76  92  97  89  \n",
    "85  57  77 32 34 46  59  66  71 29  \n",
    "98  78  76  11 22  54  88  89  24  38  \n",
    "\n",
    "1.4.11. Составьте  фрагмент  кода  для транспозиции  квадратного  двумерного  \n",
    "массива на месте, без создания второго массива.  "
   ]
  },
  {
   "cell_type": "code",
   "execution_count": 33,
   "metadata": {},
   "outputs": [
    {
     "data": {
      "text/plain": [
       "[[99, 85, 98],\n",
       " [98, 57, 78],\n",
       " [92, 77, 76],\n",
       " [94, 32, 11],\n",
       " [99, 34, 22],\n",
       " [90, 46, 54],\n",
       " [76, 59, 88],\n",
       " [92, 66, 89],\n",
       " [97, 71, 24],\n",
       " [89, 29, 38]]"
      ]
     },
     "execution_count": 33,
     "metadata": {},
     "output_type": "execute_result"
    }
   ],
   "source": [
    "def transposition(matrix):\n",
    "    output = []\n",
    "    m = len(matrix)\n",
    "    n = len(matrix[0])\n",
    "    for i in range(0, n):\n",
    "        line = []\n",
    "        output.append(line)\n",
    "        for j in range(0, m):\n",
    "            line.append(matrix[j][i])\n",
    "    return output\n",
    "\n",
    "l = [\n",
    "    [99, 98, 92, 94, 99, 90, 76, 92, 97, 89],\n",
    "    [85, 57, 77, 32, 34, 46, 59, 66, 71, 29],\n",
    "    [98, 78, 76, 11, 22, 54, 88, 89, 24, 38]\n",
    "]\n",
    "transposition(l)"
   ]
  },
  {
   "cell_type": "code",
   "execution_count": 31,
   "metadata": {},
   "outputs": [
    {
     "data": {
      "text/plain": [
       "[[99, 85, 98], [98, 57, 78], [92, 77, 76]]"
      ]
     },
     "execution_count": 31,
     "metadata": {},
     "output_type": "execute_result"
    }
   ],
   "source": [
    "def transpositionSquare(matrix):\n",
    "    n = len(matrix)\n",
    "    for i in range(0, n):\n",
    "        for j in range(0, i):\n",
    "            matrix[j][i], matrix[i][j] = matrix[i][j], matrix[j][i]\n",
    "\n",
    "l3 = [\n",
    "    [99, 98, 92],\n",
    "    [85, 57, 77],\n",
    "    [98, 78, 76]\n",
    "]\n",
    "transpositionSquare(l3)\n",
    "l3"
   ]
  },
  {
   "cell_type": "code",
   "execution_count": null,
   "metadata": {},
   "outputs": [],
   "source": []
  }
 ],
 "metadata": {
  "kernelspec": {
   "display_name": "Python 3",
   "language": "python",
   "name": "python3"
  },
  "language_info": {
   "codemirror_mode": {
    "name": "ipython",
    "version": 3
   },
   "file_extension": ".py",
   "mimetype": "text/x-python",
   "name": "python",
   "nbconvert_exporter": "python",
   "pygments_lexer": "ipython3",
   "version": "3.8.5"
  }
 },
 "nbformat": 4,
 "nbformat_minor": 4
}
