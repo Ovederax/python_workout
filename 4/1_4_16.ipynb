{
 "cells": [
  {
   "cell_type": "markdown",
   "metadata": {},
   "source": [
    "Составьте фрагмент кода для умножения двух прямоугольных матриц,  \n",
    "которые не обязательно являются  квадратными.   \n",
    "Примечание: для скалярного произведения количество столбцов в  первой матрице должно \n",
    "быть равно количеству рядов во второй матрице.  \n",
    "Если размерности не удовлетворяют этому условию,  \n",
    "выведите сообщение об ошибке. "
   ]
  },
  {
   "cell_type": "code",
   "execution_count": 2,
   "metadata": {},
   "outputs": [
    {
     "data": {
      "text/plain": [
       "[[21, -5], [46, 8], [4, 4]]"
      ]
     },
     "execution_count": 2,
     "metadata": {},
     "output_type": "execute_result"
    }
   ],
   "source": [
    "def powerMatrix(matrixA, matrixB):\n",
    "    ma = len(matrixA)\n",
    "    na = len(matrixA[0])\n",
    "    mb = len(matrixB)\n",
    "    nb = len(matrixB[0])\n",
    "    assert na == mb, 'Count of column matrix one not eq count of lines of matrx two'\n",
    "    c = []\n",
    "    for i in range(0, ma):\n",
    "        line = []\n",
    "        c.append(line)\n",
    "        for j in range(0, nb):\n",
    "            sum = 0\n",
    "            for k in range(0, na):\n",
    "                sum += matrixA[i][k] * matrixB[k][j]\n",
    "            line.append(sum)\n",
    "    return c\n",
    "\n",
    "l1 = [[3, -1,  2], [4, 2,  0],  [-5, 6, 1]]\n",
    "l2 = [[8, 1], [7, 2], [2, -3]]\n",
    "\n",
    "powerMatrix(l1, l2)\n",
    "    \n",
    "    \n",
    "    "
   ]
  }
 ],
 "metadata": {
  "kernelspec": {
   "display_name": "Python 3",
   "language": "python",
   "name": "python3"
  },
  "language_info": {
   "codemirror_mode": {
    "name": "ipython",
    "version": 3
   },
   "file_extension": ".py",
   "mimetype": "text/x-python",
   "name": "python",
   "nbconvert_exporter": "python",
   "pygments_lexer": "ipython3",
   "version": "3.8.5"
  }
 },
 "nbformat": 4,
 "nbformat_minor": 4
}
