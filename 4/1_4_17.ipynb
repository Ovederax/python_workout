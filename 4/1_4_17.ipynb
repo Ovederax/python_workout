{
 "cells": [
  {
   "cell_type": "markdown",
   "metadata": {},
   "source": [
    "Измените программу 1.4.4 (selfavoid. ру) так, чтобы вычислять и   \n",
    "выводить среднюю длину путей и  вероятность тупиков.  \n",
    "Среднюю длину успешных и тупиковых путей выводите в отдельности.  "
   ]
  },
  {
   "cell_type": "code",
   "execution_count": 11,
   "metadata": {},
   "outputs": [
    {
     "ename": "ModuleNotFoundError",
     "evalue": "No module named 'stdaггау'",
     "output_type": "error",
     "traceback": [
      "\u001b[1;31m---------------------------------------------------------------------------\u001b[0m",
      "\u001b[1;31mModuleNotFoundError\u001b[0m                       Traceback (most recent call last)",
      "\u001b[1;32m<ipython-input-11-eefaa58d0e33>\u001b[0m in \u001b[0;36m<module>\u001b[1;34m\u001b[0m\n\u001b[0;32m      1\u001b[0m \u001b[1;32mimport\u001b[0m \u001b[0mrandom\u001b[0m\u001b[1;33m\u001b[0m\u001b[1;33m\u001b[0m\u001b[0m\n\u001b[0;32m      2\u001b[0m \u001b[1;32mimport\u001b[0m \u001b[0msys\u001b[0m\u001b[1;33m\u001b[0m\u001b[1;33m\u001b[0m\u001b[0m\n\u001b[1;32m----> 3\u001b[1;33m \u001b[1;32mimport\u001b[0m \u001b[0mstdaггау\u001b[0m\u001b[1;33m\u001b[0m\u001b[1;33m\u001b[0m\u001b[0m\n\u001b[0m\u001b[0;32m      4\u001b[0m \u001b[1;33m\u001b[0m\u001b[0m\n\u001b[0;32m      5\u001b[0m \u001b[0mn\u001b[0m \u001b[1;33m=\u001b[0m \u001b[1;36m999\u001b[0m\u001b[1;33m\u001b[0m\u001b[1;33m\u001b[0m\u001b[0m\n",
      "\u001b[1;31mModuleNotFoundError\u001b[0m: No module named 'stdaггау'"
     ]
    }
   ],
   "source": [
    "import random \n",
    "import sys \n",
    "import stdaггау \n",
    "\n",
    "n = 80\n",
    "trials = 1000\n",
    "deadEnds  =  О \n",
    "for t in range(trials):\n",
    "    a = stdarray.create2D(n ,n, False)\n",
    "    х  =  n  // 2 \n",
    "    у  =  n  //  2 \n",
    "    while (х > 0)  and  (х <  n-1)  and  (у >  0) and  (у <  n-1):\n",
    "        #  Проверить туnик  и  сделать случайный  ход\n",
    "        а[х][у] =  True\n",
    "        if  а[х-1][у] and а[х+1 ][у] and а[х][у-1] and  а[х][у+1]:\n",
    "            deadEnds +=  1\n",
    "            break\n",
    "        г = random.randrange(1, 5)\n",
    "        if   (г == 1) and (not  а[х+1][у]): х  += 1\n",
    "        elif (г == 2) and (not  а[х-1][у]): х  -= 1\n",
    "        elif (г == 3) and (not  а[х][у+1]): y  += 1\n",
    "        elif (г == 4) and (not  а[х][у-1]): y  -= 1\n",
    "print(str(100 * deadEnds // trials) +  '% dead  ends')"
   ]
  },
  {
   "cell_type": "code",
   "execution_count": null,
   "metadata": {},
   "outputs": [],
   "source": []
  }
 ],
 "metadata": {
  "kernelspec": {
   "display_name": "Python 3",
   "language": "python",
   "name": "python3"
  },
  "language_info": {
   "codemirror_mode": {
    "name": "ipython",
    "version": 3
   },
   "file_extension": ".py",
   "mimetype": "text/x-python",
   "name": "python",
   "nbconvert_exporter": "python",
   "pygments_lexer": "ipython3",
   "version": "3.8.5"
  }
 },
 "nbformat": 4,
 "nbformat_minor": 4
}
